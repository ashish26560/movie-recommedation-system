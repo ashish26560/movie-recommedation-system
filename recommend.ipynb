{
  "nbformat": 4,
  "nbformat_minor": 0,
  "metadata": {
    "colab": {
      "name": "Untitled2.ipynb",
      "provenance": [],
      "authorship_tag": "ABX9TyMM+elslHrxb6uyJaFYvyPB",
      "include_colab_link": true
    },
    "kernelspec": {
      "name": "python3",
      "display_name": "Python 3"
    },
    "language_info": {
      "name": "python"
    }
  },
  "cells": [
    {
      "cell_type": "markdown",
      "metadata": {
        "id": "view-in-github",
        "colab_type": "text"
      },
      "source": [
        "<a href=\"https://colab.research.google.com/github/ashish26560/movie-recommedation-system/blob/main/recommend.ipynb\" target=\"_parent\"><img src=\"https://colab.research.google.com/assets/colab-badge.svg\" alt=\"Open In Colab\"/></a>"
      ]
    },
    {
      "cell_type": "code",
      "metadata": {
        "colab": {
          "base_uri": "https://localhost:8080/",
          "height": 275
        },
        "id": "JHN8DOJt3SV2",
        "outputId": "8ccfb2af-4206-4c6a-921c-7c442994dbdc"
      },
      "source": [
        "import pandas as pd\n",
        "import numpy as np\n",
        "import tensorflow as tf\n",
        "from tensorflow import keras\n",
        "from tensorflow.keras import layers\n",
        "import matplotlib\n",
        "import matplotlib.pyplot as plt\n",
        "from sklearn.feature_extraction.text import CountVectorizer\n",
        "import re\n",
        "from sklearn.metrics.pairwise import cosine_similarity\n",
        "import random\n",
        "import nltk\n",
        "\n",
        "nltk.download('punkt')\n",
        "nltk.download('stopwords')\n",
        "\n",
        "movies = pd.read_csv('movies.csv')\n",
        "movies['title'] = movies['title'].str.strip().str[:-7]\n",
        "movies['genres'] = movies['genres'].str.replace('|', ' ')\n",
        "user_ratings = pd.read_csv('ratings.csv')\n",
        "user_ratings = user_ratings.drop(columns=['timestamp'])\n",
        "\n",
        "movies.head()"
      ],
      "execution_count": 12,
      "outputs": [
        {
          "output_type": "stream",
          "text": [
            "[nltk_data] Downloading package punkt to /root/nltk_data...\n",
            "[nltk_data]   Unzipping tokenizers/punkt.zip.\n",
            "[nltk_data] Downloading package stopwords to /root/nltk_data...\n",
            "[nltk_data]   Unzipping corpora/stopwords.zip.\n"
          ],
          "name": "stdout"
        },
        {
          "output_type": "execute_result",
          "data": {
            "text/html": [
              "<div>\n",
              "<style scoped>\n",
              "    .dataframe tbody tr th:only-of-type {\n",
              "        vertical-align: middle;\n",
              "    }\n",
              "\n",
              "    .dataframe tbody tr th {\n",
              "        vertical-align: top;\n",
              "    }\n",
              "\n",
              "    .dataframe thead th {\n",
              "        text-align: right;\n",
              "    }\n",
              "</style>\n",
              "<table border=\"1\" class=\"dataframe\">\n",
              "  <thead>\n",
              "    <tr style=\"text-align: right;\">\n",
              "      <th></th>\n",
              "      <th>movieId</th>\n",
              "      <th>title</th>\n",
              "      <th>genres</th>\n",
              "    </tr>\n",
              "  </thead>\n",
              "  <tbody>\n",
              "    <tr>\n",
              "      <th>0</th>\n",
              "      <td>1</td>\n",
              "      <td>Toy Story</td>\n",
              "      <td>Adventure Animation Children Comedy Fantasy</td>\n",
              "    </tr>\n",
              "    <tr>\n",
              "      <th>1</th>\n",
              "      <td>2</td>\n",
              "      <td>Jumanji</td>\n",
              "      <td>Adventure Children Fantasy</td>\n",
              "    </tr>\n",
              "    <tr>\n",
              "      <th>2</th>\n",
              "      <td>3</td>\n",
              "      <td>Grumpier Old Men</td>\n",
              "      <td>Comedy Romance</td>\n",
              "    </tr>\n",
              "    <tr>\n",
              "      <th>3</th>\n",
              "      <td>4</td>\n",
              "      <td>Waiting to Exhale</td>\n",
              "      <td>Comedy Drama Romance</td>\n",
              "    </tr>\n",
              "    <tr>\n",
              "      <th>4</th>\n",
              "      <td>5</td>\n",
              "      <td>Father of the Bride Part II</td>\n",
              "      <td>Comedy</td>\n",
              "    </tr>\n",
              "  </tbody>\n",
              "</table>\n",
              "</div>"
            ],
            "text/plain": [
              "   movieId  ...                                       genres\n",
              "0        1  ...  Adventure Animation Children Comedy Fantasy\n",
              "1        2  ...                   Adventure Children Fantasy\n",
              "2        3  ...                               Comedy Romance\n",
              "3        4  ...                         Comedy Drama Romance\n",
              "4        5  ...                                       Comedy\n",
              "\n",
              "[5 rows x 3 columns]"
            ]
          },
          "metadata": {
            "tags": []
          },
          "execution_count": 12
        }
      ]
    },
    {
      "cell_type": "code",
      "metadata": {
        "id": "Yt9s2T5W4frh"
      },
      "source": [
        "\n",
        "vectorizer = CountVectorizer()\n",
        "x = vectorizer.fit_transform(movies['genres'].values)\n",
        "feature_names = vectorizer.get_feature_names()"
      ],
      "execution_count": 14,
      "outputs": []
    },
    {
      "cell_type": "code",
      "metadata": {
        "id": "anIxCJNR6feJ"
      },
      "source": [
        "genres_bow = pd.DataFrame(x.toarray(), columns=feature_names)\n",
        "genres_bow['combined']= genres_bow.values.tolist()"
      ],
      "execution_count": 16,
      "outputs": []
    },
    {
      "cell_type": "code",
      "metadata": {
        "colab": {
          "base_uri": "https://localhost:8080/",
          "height": 203
        },
        "id": "Vj0JL1Fi6kDz",
        "outputId": "8a16d0bb-a648-44a1-e82b-edbdbbb731e1"
      },
      "source": [
        "movies['genres'] = genres_bow['combined']\n",
        "movies.head()"
      ],
      "execution_count": 18,
      "outputs": [
        {
          "output_type": "execute_result",
          "data": {
            "text/html": [
              "<div>\n",
              "<style scoped>\n",
              "    .dataframe tbody tr th:only-of-type {\n",
              "        vertical-align: middle;\n",
              "    }\n",
              "\n",
              "    .dataframe tbody tr th {\n",
              "        vertical-align: top;\n",
              "    }\n",
              "\n",
              "    .dataframe thead th {\n",
              "        text-align: right;\n",
              "    }\n",
              "</style>\n",
              "<table border=\"1\" class=\"dataframe\">\n",
              "  <thead>\n",
              "    <tr style=\"text-align: right;\">\n",
              "      <th></th>\n",
              "      <th>movieId</th>\n",
              "      <th>title</th>\n",
              "      <th>genres</th>\n",
              "    </tr>\n",
              "  </thead>\n",
              "  <tbody>\n",
              "    <tr>\n",
              "      <th>0</th>\n",
              "      <td>1</td>\n",
              "      <td>Toy Story</td>\n",
              "      <td>[0, 1, 1, 1, 1, 0, 0, 0, 1, 0, 0, 0, 0, 0, 0, ...</td>\n",
              "    </tr>\n",
              "    <tr>\n",
              "      <th>1</th>\n",
              "      <td>2</td>\n",
              "      <td>Jumanji</td>\n",
              "      <td>[0, 1, 0, 1, 0, 0, 0, 0, 1, 0, 0, 0, 0, 0, 0, ...</td>\n",
              "    </tr>\n",
              "    <tr>\n",
              "      <th>2</th>\n",
              "      <td>3</td>\n",
              "      <td>Grumpier Old Men</td>\n",
              "      <td>[0, 0, 0, 0, 1, 0, 0, 0, 0, 0, 0, 0, 0, 0, 0, ...</td>\n",
              "    </tr>\n",
              "    <tr>\n",
              "      <th>3</th>\n",
              "      <td>4</td>\n",
              "      <td>Waiting to Exhale</td>\n",
              "      <td>[0, 0, 0, 0, 1, 0, 0, 1, 0, 0, 0, 0, 0, 0, 0, ...</td>\n",
              "    </tr>\n",
              "    <tr>\n",
              "      <th>4</th>\n",
              "      <td>5</td>\n",
              "      <td>Father of the Bride Part II</td>\n",
              "      <td>[0, 0, 0, 0, 1, 0, 0, 0, 0, 0, 0, 0, 0, 0, 0, ...</td>\n",
              "    </tr>\n",
              "  </tbody>\n",
              "</table>\n",
              "</div>"
            ],
            "text/plain": [
              "   movieId  ...                                             genres\n",
              "0        1  ...  [0, 1, 1, 1, 1, 0, 0, 0, 1, 0, 0, 0, 0, 0, 0, ...\n",
              "1        2  ...  [0, 1, 0, 1, 0, 0, 0, 0, 1, 0, 0, 0, 0, 0, 0, ...\n",
              "2        3  ...  [0, 0, 0, 0, 1, 0, 0, 0, 0, 0, 0, 0, 0, 0, 0, ...\n",
              "3        4  ...  [0, 0, 0, 0, 1, 0, 0, 1, 0, 0, 0, 0, 0, 0, 0, ...\n",
              "4        5  ...  [0, 0, 0, 0, 1, 0, 0, 0, 0, 0, 0, 0, 0, 0, 0, ...\n",
              "\n",
              "[5 rows x 3 columns]"
            ]
          },
          "metadata": {
            "tags": []
          },
          "execution_count": 18
        }
      ]
    },
    {
      "cell_type": "code",
      "metadata": {
        "id": "3wgr8bmY7gg6"
      },
      "source": [
        "def get_cossim(movieid, top):\n",
        "    # Creating dataframe with only IDs and genres\n",
        "    movies_to_search = movies[['movieId', 'genres']]\n",
        "    # Remove the ID of the movie we are measuring distance to\n",
        "    movies_to_search = movies_to_search[movies_to_search.movieId != movieid]\n",
        "    # Saving distances to new column\n",
        "    movies_to_search['dist'] = movies_to_search['genres'].apply(lambda x: cosine_similarity(np.array(x).reshape(1, -1), np.array(movies.loc[movies['movieId'] == movieid]['genres'].values[0]).reshape(1, -1)))\n",
        "    # Remove the genres column\n",
        "    movies_to_search = movies_to_search.drop(columns=['genres'])\n",
        "    # Distance value is in the list inside of the list so we need to unpack it\n",
        "    movies_to_search = movies_to_search.explode('dist').explode('dist')\n",
        "    # Sort the data and return top values\n",
        "    return movies_to_search.sort_values(by=['dist'], ascending=False)['movieId'].head(top).values"
      ],
      "execution_count": 19,
      "outputs": []
    },
    {
      "cell_type": "code",
      "metadata": {
        "id": "UlUOf1Kl76w2"
      },
      "source": [
        "def get_similar(userid):\n",
        "    # Take all the movies watched by user\n",
        "    movies_watched_by_user = user_ratings[user_ratings.userId == user_id]\n",
        "    # Only 4.5 or higher rating filtered\n",
        "    movies_watched_by_user = movies_watched_by_user[movies_watched_by_user['rating'] > 4.5]\n",
        "    # Taking top 20 with highest ratings\n",
        "    top_movies_user = (movies_watched_by_user.sort_values(by=\"rating\", ascending=False).head(20))\n",
        "    top_movies_user['watched_movieId'] = top_movies_user['movieId']\n",
        "    top_movies_user = top_movies_user[['userId', 'watched_movieId']]\n",
        "    # Find 5 similar movies for each of the selected above\n",
        "    top_movies_user['similar'] = top_movies_user['watched_movieId'].apply(lambda x: (get_cossim(x, 5)))\n",
        "    # Remove movies that user have already watched from recommendations\n",
        "    result = [x for x in np.concatenate(top_movies_user['similar'].values, axis=0).tolist() if x not in top_movies_user.watched_movieId.values.tolist()]\n",
        "    return result"
      ],
      "execution_count": 20,
      "outputs": []
    },
    {
      "cell_type": "code",
      "metadata": {
        "id": "lv2zPVsm8H73"
      },
      "source": [
        "def get_top(id, top):\n",
        "    # taking movies that user may like\n",
        "    smlr = get_similar(id)    \n",
        "    # Calculating mean rationg for every movie\n",
        "    movie_data = pd.merge(user_ratings, movies, on='movieId')\n",
        "    ratings_mean_count = pd.DataFrame(movie_data.groupby('movieId')['rating'].mean())\n",
        "    ratings_mean_count['rating_counts'] = pd.DataFrame(movie_data.groupby('movieId')['rating'].count())\n",
        "    # Sorting movies with 10 or more ratings by users\n",
        "    ratings_mean_count = ratings_mean_count[ratings_mean_count['rating_counts'] > 10]\n",
        "    # Returning top N movies sorted by rating\n",
        "    return ratings_mean_count[ratings_mean_count.index.isin(smlr)].sort_values(by=['rating'], ascending=False).head(top)"
      ],
      "execution_count": 22,
      "outputs": []
    },
    {
      "cell_type": "code",
      "metadata": {
        "id": "5NIOlUhy8PJC"
      },
      "source": [
        "df = user_ratings"
      ],
      "execution_count": 23,
      "outputs": []
    },
    {
      "cell_type": "code",
      "metadata": {
        "colab": {
          "base_uri": "https://localhost:8080/"
        },
        "id": "MGAWyiD58yCB",
        "outputId": "528528b5-fbba-43dc-92bf-a182ca1cfa4c"
      },
      "source": [
        "user_ids = df[\"userId\"].unique().tolist()\n",
        "# Reassign user IDs\n",
        "user2user_encoded = {x: i for i, x in enumerate(user_ids)}\n",
        "userencoded2user = {i: x for i, x in enumerate(user_ids)}\n",
        "\n",
        "movie_ids = df[\"movieId\"].unique().tolist()\n",
        "# Reassign movie IDs\n",
        "movie2movie_encoded = {x: i for i, x in enumerate(movie_ids)}\n",
        "movie_encoded2movie = {i: x for i, x in enumerate(movie_ids)}\n",
        "\n",
        "df[\"user\"] = df[\"userId\"].map(user2user_encoded)\n",
        "df[\"movie\"] = df[\"movieId\"].map(movie2movie_encoded)\n",
        "\n",
        "num_users = len(user2user_encoded)\n",
        "num_movies = len(movie_encoded2movie)\n",
        "df[\"rating\"] = df[\"rating\"].values.astype(np.float32)\n",
        "# min and max ratings will be used to normalize the ratings later\n",
        "min_rating = min(df[\"rating\"])\n",
        "max_rating = max(df[\"rating\"])\n",
        "\n",
        "print(\n",
        "    \"Number of users: {}, Number of Movies: {}, Min rating: {}, Max rating: {}\".format(\n",
        "        num_users, num_movies, min_rating, max_rating\n",
        "    )\n",
        ")"
      ],
      "execution_count": 24,
      "outputs": [
        {
          "output_type": "stream",
          "text": [
            "Number of users: 610, Number of Movies: 9724, Min rating: 0.5, Max rating: 5.0\n"
          ],
          "name": "stdout"
        }
      ]
    },
    {
      "cell_type": "code",
      "metadata": {
        "id": "rFGlFhUn8-f8"
      },
      "source": [
        "df = df.sample(frac=1, random_state=42)\n",
        "x = df[[\"user\", \"movie\"]].values\n",
        "# Normalize the targets between 0 and 1. Makes it easy to train.\n",
        "y = df[\"rating\"].apply(lambda x: (x - min_rating) / (max_rating - min_rating)).values\n",
        "# Assuming training on 90% of the data and validating on 10%.\n",
        "train_indices = int(0.9 * df.shape[0])\n",
        "x_train, x_val, y_train, y_val = (\n",
        "    x[:train_indices],\n",
        "    x[train_indices:],\n",
        "    y[:train_indices],\n",
        "    y[train_indices:],\n",
        ")"
      ],
      "execution_count": 25,
      "outputs": []
    },
    {
      "cell_type": "code",
      "metadata": {
        "id": "BjK37hAd9HGD"
      },
      "source": [
        "EMBEDDING_SIZE = 50\n",
        "\n",
        "class RecommenderNet(keras.Model):\n",
        "    def __init__(self, num_users, num_movies, embedding_size, **kwargs):\n",
        "        super(RecommenderNet, self).__init__(**kwargs)\n",
        "        self.num_users = num_users\n",
        "        self.num_movies = num_movies\n",
        "        self.embedding_size = embedding_size\n",
        "        self.user_embedding = layers.Embedding(\n",
        "            num_users,\n",
        "            embedding_size,\n",
        "            embeddings_initializer=\"he_normal\",\n",
        "            embeddings_regularizer=keras.regularizers.l2(1e-6),\n",
        "        )\n",
        "        self.user_bias = layers.Embedding(num_users, 1)\n",
        "        self.movie_embedding = layers.Embedding(\n",
        "            num_movies,\n",
        "            embedding_size,\n",
        "            embeddings_initializer=\"he_normal\",\n",
        "            embeddings_regularizer=keras.regularizers.l2(1e-6),\n",
        "        )\n",
        "        self.movie_bias = layers.Embedding(num_movies, 1)\n",
        "\n",
        "    def call(self, inputs):\n",
        "        user_vector = self.user_embedding(inputs[:, 0])\n",
        "        user_bias = self.user_bias(inputs[:, 0])\n",
        "        movie_vector = self.movie_embedding(inputs[:, 1])\n",
        "        movie_bias = self.movie_bias(inputs[:, 1])\n",
        "        dot_user_movie = tf.tensordot(user_vector, movie_vector, 2)\n",
        "        # Add all the components (including bias)\n",
        "        x = dot_user_movie + user_bias + movie_bias\n",
        "        # The sigmoid activation forces the rating to between 0 and 1\n",
        "        return tf.nn.sigmoid(x)\n",
        "\n",
        "model = RecommenderNet(num_users, num_movies, EMBEDDING_SIZE)\n",
        "model.compile(\n",
        "    loss=tf.keras.losses.BinaryCrossentropy(), optimizer=keras.optimizers.Adam(lr=0.0005)\n",
        ")"
      ],
      "execution_count": 26,
      "outputs": []
    },
    {
      "cell_type": "code",
      "metadata": {
        "colab": {
          "base_uri": "https://localhost:8080/"
        },
        "id": "-y1nohC79LHE",
        "outputId": "0ff3996c-276c-4848-ebf7-8f1f684cccdf"
      },
      "source": [
        "history = model.fit(\n",
        "    x=x_train,\n",
        "    y=y_train,\n",
        "    batch_size=64,\n",
        "    epochs=15,\n",
        "    verbose=1,\n",
        "    validation_data=(x_val, y_val),\n",
        ")"
      ],
      "execution_count": 27,
      "outputs": [
        {
          "output_type": "stream",
          "text": [
            "Epoch 1/15\n",
            "1418/1418 [==============================] - 8s 5ms/step - loss: 0.6704 - val_loss: 0.6274\n",
            "Epoch 2/15\n",
            "1418/1418 [==============================] - 7s 5ms/step - loss: 0.6229 - val_loss: 0.6265\n",
            "Epoch 3/15\n",
            "1418/1418 [==============================] - 7s 5ms/step - loss: 0.6133 - val_loss: 0.6195\n",
            "Epoch 4/15\n",
            "1418/1418 [==============================] - 6s 5ms/step - loss: 0.6080 - val_loss: 0.6154\n",
            "Epoch 5/15\n",
            "1418/1418 [==============================] - 6s 5ms/step - loss: 0.6071 - val_loss: 0.6131\n",
            "Epoch 6/15\n",
            "1418/1418 [==============================] - 7s 5ms/step - loss: 0.6030 - val_loss: 0.6112\n",
            "Epoch 7/15\n",
            "1418/1418 [==============================] - 7s 5ms/step - loss: 0.6014 - val_loss: 0.6089\n",
            "Epoch 8/15\n",
            "1418/1418 [==============================] - 6s 4ms/step - loss: 0.6002 - val_loss: 0.6091\n",
            "Epoch 9/15\n",
            "1418/1418 [==============================] - 6s 5ms/step - loss: 0.5981 - val_loss: 0.6077\n",
            "Epoch 10/15\n",
            "1418/1418 [==============================] - 7s 5ms/step - loss: 0.5975 - val_loss: 0.6070\n",
            "Epoch 11/15\n",
            "1418/1418 [==============================] - 7s 5ms/step - loss: 0.5968 - val_loss: 0.6067\n",
            "Epoch 12/15\n",
            "1418/1418 [==============================] - 7s 5ms/step - loss: 0.5951 - val_loss: 0.6056\n",
            "Epoch 13/15\n",
            "1418/1418 [==============================] - 7s 5ms/step - loss: 0.5946 - val_loss: 0.6057\n",
            "Epoch 14/15\n",
            "1418/1418 [==============================] - 7s 5ms/step - loss: 0.5938 - val_loss: 0.6056\n",
            "Epoch 15/15\n",
            "1418/1418 [==============================] - 7s 5ms/step - loss: 0.5933 - val_loss: 0.6052\n"
          ],
          "name": "stdout"
        }
      ]
    },
    {
      "cell_type": "code",
      "metadata": {
        "colab": {
          "base_uri": "https://localhost:8080/",
          "height": 295
        },
        "id": "CYk9nF3x-JzW",
        "outputId": "1ed2e3c1-1b0e-4dec-e67f-3dfe7c830608"
      },
      "source": [
        "plt.plot(history.history[\"loss\"])\n",
        "plt.plot(history.history[\"val_loss\"])\n",
        "plt.title(\"model loss\")\n",
        "plt.ylabel(\"loss\")\n",
        "plt.xlabel(\"epoch\")\n",
        "plt.legend([\"train\", \"test\"], loc=\"upper left\")\n",
        "plt.show()"
      ],
      "execution_count": 34,
      "outputs": [
        {
          "output_type": "display_data",
          "data": {
            "image/png": "[encoded data removed]",
            "text/plain": [
              "<Figure size 432x288 with 1 Axes>"
            ]
          },
          "metadata": {
            "tags": [],
            "needs_background": "light"
          }
        }
      ]
    },
    {
      "cell_type": "code",
      "metadata": {
        "id": "0a3K3NP9_vbw"
      },
      "source": [
        "user_id = 10"
      ],
      "execution_count": 36,
      "outputs": []
    },
    {
      "cell_type": "code",
      "metadata": {
        "id": "cfnxbu7r_6oT"
      },
      "source": [
        "top = get_top(user_id, 20)\n",
        "content_rec = top.index.values.tolist()"
      ],
      "execution_count": 37,
      "outputs": []
    },
    {
      "cell_type": "code",
      "metadata": {
        "id": "bBl_zgJbA_d9"
      },
      "source": [
        "movie_df = pd.read_csv('movies.csv') \n",
        "\n",
        "# Searching for movies that user already watched\n",
        "movies_watched_by_user = df[df.userId == user_id]\n",
        "# Searching for movies that user haven't watched yet\n",
        "movies_not_watched = movie_df[\n",
        "    ~movie_df[\"movieId\"].isin(movies_watched_by_user.movieId.values)\n",
        "][\"movieId\"]\n",
        "\n",
        "movies_not_watched = list(\n",
        "    set(movies_not_watched).intersection(set(movie2movie_encoded.keys()))\n",
        ")\n",
        "\n",
        "movies_not_watched = [[movie2movie_encoded.get(x)] for x in movies_not_watched]\n",
        "user_encoder = user2user_encoded.get(user_id)\n",
        "user_movie_array = np.hstack(\n",
        "    ([[user_encoder]] * len(movies_not_watched), movies_not_watched)\n",
        ")\n",
        "# Predicting ratings for movies\n",
        "ratings = model.predict(user_movie_array).flatten()\n",
        "# Sorting predicted ratings and taking top 20\n",
        "top_ratings_indices = ratings.argsort()[-20:][::-1]\n",
        "# Getting the actual IDs for movies\n",
        "recommended_movie_ids = [\n",
        "    movie_encoded2movie.get(movies_not_watched[x][0]) for x in top_ratings_indices\n",
        "]\n"
      ],
      "execution_count": 40,
      "outputs": []
    },
    {
      "cell_type": "code",
      "metadata": {
        "colab": {
          "base_uri": "https://localhost:8080/"
        },
        "id": "IIKA4A-9BJOT",
        "outputId": "514aaa7c-d6b8-4b3f-9773-b165051ba9dd"
      },
      "source": [
        "print(\"Showing recommendations for user: {}\".format(user_id))\n",
        "print(\"====\" * 10)\n",
        "print(\"Movies with high ratings from user\")\n",
        "print(\"----\" * 10)\n",
        "top_movies_user = (\n",
        "    movies_watched_by_user.sort_values(by=\"rating\", ascending=False)\n",
        "    .head(10)\n",
        "    .movieId.values\n",
        ")\n",
        "movie_df_rows = movie_df[movie_df[\"movieId\"].isin(top_movies_user)]\n",
        "for row in movie_df_rows.itertuples():\n",
        "    print(row.title, \":\", row.genres)\n",
        "\n",
        "print(\"----\" * 10)\n",
        "print(\"Top 10 movie recommendations\")\n",
        "print(\"----\" * 10)\n",
        "# Случайным образом выбираем 10 фильмов из рекомендаций\n",
        "to_recommend = random.sample((content_rec + recommended_movie_ids), 10)\n",
        "recommended_movies = movie_df[movie_df[\"movieId\"].isin(to_recommend)]\n",
        "for row in recommended_movies.itertuples():\n",
        "    print(row.title, \":\", row.genres)"
      ],
      "execution_count": 41,
      "outputs": [
        {
          "output_type": "stream",
          "text": [
            "Showing recommendations for user: 10\n",
            "========================================\n",
            "Movies with high ratings from user\n",
            "----------------------------------------\n",
            "Troy (2004) : Action|Adventure|Drama|War\n",
            "First Daughter (2004) : Comedy|Romance\n",
            "Education, An (2009) : Drama|Romance\n",
            "Despicable Me (2010) : Animation|Children|Comedy|Crime\n",
            "King's Speech, The (2010) : Drama\n",
            "Dark Knight Rises, The (2012) : Action|Adventure|Crime|IMAX\n",
            "Intouchables (2011) : Comedy|Drama\n",
            "Skyfall (2012) : Action|Adventure|Thriller|IMAX\n",
            "Spectre (2015) : Action|Adventure|Crime\n",
            "The Intern (2015) : Comedy\n",
            "----------------------------------------\n",
            "Top 10 movie recommendations\n",
            "----------------------------------------\n",
            "Shawshank Redemption, The (1994) : Crime|Drama\n",
            "Dr. Strangelove or: How I Learned to Stop Worrying and Love the Bomb (1964) : Comedy|War\n",
            "Raiders of the Lost Ark (Indiana Jones and the Raiders of the Lost Ark) (1981) : Action|Adventure\n",
            "Great Escape, The (1963) : Action|Adventure|Drama|War\n",
            "View to a Kill, A (1985) : Action|Adventure|Thriller\n",
            "Boondock Saints, The (2000) : Action|Crime|Drama|Thriller\n",
            "Monsoon Wedding (2001) : Comedy|Romance\n",
            "Departed, The (2006) : Crime|Drama|Thriller\n",
            "Help, The (2011) : Drama\n",
            "Kingsman: The Secret Service (2015) : Action|Adventure|Comedy|Crime\n"
          ],
          "name": "stdout"
        }
      ]
    }
  ]
}